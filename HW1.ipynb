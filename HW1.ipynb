{
 "cells": [
  {
   "cell_type": "code",
   "execution_count": 1,
   "metadata": {},
   "outputs": [],
   "source": [
    "import numpy as np\n",
    "import math\n",
    "import matplotlib.pyplot as plt\n",
    "import pandas as pd"
   ]
  },
  {
   "cell_type": "markdown",
   "metadata": {},
   "source": [
    "<img src=\"hw1-1.png\"/>\n",
    "\n",
    "\n",
    "<img src=\"hw2-2.png\"/>\n",
    "\n",
    "## Question 3b\n",
    "Implement Euler’s method to find an approximate solution to (2)-(3). Using the exact solution verify the first order rate of convergence of the approximation."
   ]
  },
  {
   "cell_type": "code",
   "execution_count": 2,
   "metadata": {},
   "outputs": [],
   "source": [
    "# forward Euler's method to find appro solution\n",
    "def fun(t,y):\n",
    "    return (3*math.cos(t)/y**2)\n",
    "def euler(steps, T,y0):\n",
    "    delta_t = T/steps\n",
    "    t = np.linspace(0,T,steps)\n",
    "    y=[y0]\n",
    "    for i in range(len(t)-1):  \n",
    "        y.append(y[i]+delta_t*fun(t[i],y[i]))\n",
    "    return t,y\n",
    "\n",
    "    "
   ]
  },
  {
   "cell_type": "code",
   "execution_count": 3,
   "metadata": {},
   "outputs": [
    {
     "name": "stdout",
     "output_type": "stream",
     "text": [
      "The rate of convergence is: 0.9805067068539919\n"
     ]
    },
    {
     "data": {
      "text/html": [
       "<div>\n",
       "<style scoped>\n",
       "    .dataframe tbody tr th:only-of-type {\n",
       "        vertical-align: middle;\n",
       "    }\n",
       "\n",
       "    .dataframe tbody tr th {\n",
       "        vertical-align: top;\n",
       "    }\n",
       "\n",
       "    .dataframe thead th {\n",
       "        text-align: right;\n",
       "    }\n",
       "</style>\n",
       "<table border=\"1\" class=\"dataframe\">\n",
       "  <thead>\n",
       "    <tr style=\"text-align: right;\">\n",
       "      <th></th>\n",
       "      <th>$N$</th>\n",
       "      <th>Error</th>\n",
       "    </tr>\n",
       "  </thead>\n",
       "  <tbody>\n",
       "    <tr>\n",
       "      <th>0</th>\n",
       "      <td>50</td>\n",
       "      <td>17.807434</td>\n",
       "    </tr>\n",
       "    <tr>\n",
       "      <th>1</th>\n",
       "      <td>51</td>\n",
       "      <td>18.161461</td>\n",
       "    </tr>\n",
       "  </tbody>\n",
       "</table>\n",
       "</div>"
      ],
      "text/plain": [
       "   $N$      Error\n",
       "0   50  17.807434\n",
       "1   51  18.161461"
      ]
     },
     "execution_count": 3,
     "metadata": {},
     "output_type": "execute_result"
    }
   ],
   "source": [
    "def exact_fun(steps,T):\n",
    "    t = np.linspace(0,T,steps)\n",
    "    y=np.array([])\n",
    "    for i in range(len(t)):\n",
    "        yn=(9*math.sin(t[i])+1)**(1/3)\n",
    "        y=np.append(y,yn)\n",
    "    return y\n",
    "# compute total error using N=50 to approximate\n",
    "error_50 =sum(abs(exact_fun(50,1) - np.array(euler(50,math.pi,1)[1])))\n",
    "#useN=100 \n",
    "error_100=sum(abs(exact_fun(51,1) - np.array(euler(51,math.pi,1)[1])))\n",
    "\n",
    "data = {'$N$':[50,51], 'Error': [error_50, error_100] }\n",
    "print(\"The rate of convergence is:\",error_50/error_100)\n",
    "pd.DataFrame(data)"
   ]
  },
  {
   "cell_type": "markdown",
   "metadata": {},
   "source": [
    "## Question 3c"
   ]
  },
  {
   "cell_type": "code",
   "execution_count": 4,
   "metadata": {},
   "outputs": [
    {
     "data": {
      "text/plain": [
       "[<matplotlib.lines.Line2D at 0x1c90b9f3eb8>]"
      ]
     },
     "execution_count": 4,
     "metadata": {},
     "output_type": "execute_result"
    },
    {
     "data": {
      "image/png": "[encoded data removed]",
      "text/plain": [
       "<Figure size 432x288 with 1 Axes>"
      ]
     },
     "metadata": {
      "needs_background": "light"
     },
     "output_type": "display_data"
    }
   ],
   "source": [
    "# plot approximation with 300 steps\n",
    "t,y=euler(300,math.pi,1)\n",
    "plt.plot(t,y)"
   ]
  },
  {
   "cell_type": "markdown",
   "metadata": {},
   "source": [
    "## Question 4b\n",
    "Verify the expected order of convergence and plot the approximation for a sufficiently small ∆t."
   ]
  },
  {
   "cell_type": "code",
   "execution_count": 9,
   "metadata": {},
   "outputs": [],
   "source": [
    "def euler_second(step,T):\n",
    "    delta_t = T/step\n",
    "    t = np.linspace(0,T,step)\n",
    "    y1=np.zeros(step)\n",
    "    y2=np.zeros(step)\n",
    "    y1[0] = 1\n",
    "    y2[0] = 0\n",
    "    \n",
    "    for i in range(step-1):  \n",
    "        y1[i+1] = y1[i]+y2[i]*delta_t\n",
    "        y2[i+1] = y2[i] -delta_t*( 0.2*y2[i]+4*y1[i])\n",
    "    return t,y1,y2\n",
    "\n",
    "\n",
    "t,y1,y2 = euler_second(200,5)    \n",
    "t2,y1_200,y2_200 = euler_second(400,5)\n",
    "t4,y1_400,y2_400 = euler_second(800,5)\n",
    "\n",
    "y1_200_even =y1_200[::2]\n",
    "y1_400_even =y1_400[::2]\n",
    "\n"
   ]
  },
  {
   "cell_type": "markdown",
   "metadata": {},
   "source": [
    "To find the order of convergence:\n",
    "\n",
    "$ y = A_h +ch^p \\\\ y = A_{h/2} +c(h/2)^p  \\\\ y = A_{h/4} +c(h/4)^p  $\n",
    "\n",
    "## $p = log_2{\\frac{(A_{h/2} - A_h)}{(A_{h/4} - A_{h/2})}}$"
   ]
  },
  {
   "cell_type": "code",
   "execution_count": 16,
   "metadata": {},
   "outputs": [
    {
     "name": "stdout",
     "output_type": "stream",
     "text": [
      "P is 1.159644704142528  which is approximately 1, the order of convergence\n"
     ]
    }
   ],
   "source": [
    "p = np.log2((abs(y1_200[-1] - y1[-1]))/(abs(y1_400[-1] - y1_200[-1])))\n",
    "\n",
    "print(\"P is\", p,\" which is approximately 1, the order of convergence\")"
   ]
  },
  {
   "cell_type": "code",
   "execution_count": 11,
   "metadata": {},
   "outputs": [
    {
     "data": {
      "text/plain": [
       "<matplotlib.legend.Legend at 0x1c90bb35cc0>"
      ]
     },
     "execution_count": 11,
     "metadata": {},
     "output_type": "execute_result"
    },
    {
     "data": {
      "image/png": "[encoded data removed]",
      "text/plain": [
       "<Figure size 432x288 with 1 Axes>"
      ]
     },
     "metadata": {
      "needs_background": "light"
     },
     "output_type": "display_data"
    }
   ],
   "source": [
    "# plot approximation\n",
    "plt.plot(t,y1,color = 'red', label = \"200\")\n",
    "plt.plot(t2,y1_200,color = 'blue', label = \"400\")\n",
    "plt.legend()"
   ]
  }
 ],
 "metadata": {
  "kernelspec": {
   "display_name": "Python 3",
   "language": "python",
   "name": "python3"
  },
  "language_info": {
   "codemirror_mode": {
    "name": "ipython",
    "version": 3
   },
   "file_extension": ".py",
   "mimetype": "text/x-python",
   "name": "python",
   "nbconvert_exporter": "python",
   "pygments_lexer": "ipython3",
   "version": "3.7.3"
  }
 },
 "nbformat": 4,
 "nbformat_minor": 2
}
